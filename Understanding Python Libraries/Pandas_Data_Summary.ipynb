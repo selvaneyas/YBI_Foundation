{
  "cells": [
    {
      "cell_type": "markdown",
      "metadata": {
        "id": "IEVAPScTNbsI"
      },
      "source": [
        "# Pandas Data Summary"
      ]
    },
    {
      "cell_type": "markdown",
      "metadata": {},
      "source": [
        "## What is Data Summary?\n",
        "\n",
        "Data Summary is a statistical analysis tool that provides a concise overview of a dataset. It includes measures of central tendency (mean, median, mode) and variability (range, variance, standard deviation). This information helps users understand the distribution of data, identify patterns, and make informed decisions. \n",
        "\n",
        "Data Summary is commonly used in various fields, including business, finance, healthcare, and social sciences, to analyze and interpret data from surveys, experiments, and other sources."
      ]
    },
    {
      "cell_type": "markdown",
      "metadata": {},
      "source": [
        "- **Mean** : The average value of a set of numbers. It is calculated by adding up all the numbers and then dividing by the number of values in the set.\n",
        "\n",
        "- **Median** : The middle value of a set of numbers when they are arranged in order. If there is an even number of values, the median is the average of the two middle values.\n",
        "\n",
        "- **Mode** : The value that appears most frequently in a set of numbers.\n",
        "\n",
        "- **Standard Deviation** : \n",
        "    - A measure of how spread out the values in a set of numbers are. It is calculated by finding the average distance between each value and the mean. \n",
        "\n",
        "    - A low standard deviation means that the values are close together, while a high standard deviation means that they are far apart.\n",
        "- **Variance** : The average of the squared differences from the Mean. It is a measure of how spread out the values in a set of numbers are. It is calculated by finding the average of the squared differences between each value and the mean."
      ]
    },
    {
      "cell_type": "markdown",
      "metadata": {},
      "source": [
        "## Properties of Data Summary\n",
        "\n",
        "- Simplicity\n",
        "- Insightful\n",
        "- Comparative\n",
        "- Informative"
      ]
    },
    {
      "cell_type": "markdown",
      "metadata": {},
      "source": [
        "## Creating Data Summaries with Pandas"
      ]
    },
    {
      "cell_type": "code",
      "execution_count": 1,
      "metadata": {
        "id": "cdxxoLNENGII"
      },
      "outputs": [],
      "source": [
        "# Step 1 : Importing Pandas\n",
        "import pandas as pd"
      ]
    },
    {
      "cell_type": "code",
      "execution_count": 3,
      "metadata": {
        "id": "HNAWM7yaNcNp"
      },
      "outputs": [
        {
          "data": {
            "application/vnd.microsoft.datawrangler.viewer.v0+json": {
              "columns": [
                {
                  "name": "index",
                  "rawType": "int64",
                  "type": "integer"
                },
                {
                  "name": "Name",
                  "rawType": "object",
                  "type": "string"
                },
                {
                  "name": "Math",
                  "rawType": "int64",
                  "type": "integer"
                },
                {
                  "name": "Science",
                  "rawType": "int64",
                  "type": "integer"
                },
                {
                  "name": "English",
                  "rawType": "int64",
                  "type": "integer"
                }
              ],
              "ref": "3207e75d-3ee9-4797-b6a2-15c62d4d6f46",
              "rows": [
                [
                  "0",
                  "Aarav",
                  "85",
                  "89",
                  "78"
                ],
                [
                  "1",
                  "Isha",
                  "92",
                  "94",
                  "85"
                ],
                [
                  "2",
                  "Rahul",
                  "78",
                  "82",
                  "88"
                ],
                [
                  "3",
                  "Sneha",
                  "88",
                  "91",
                  "90"
                ],
                [
                  "4",
                  "Ananya",
                  "95",
                  "87",
                  "92"
                ]
              ],
              "shape": {
                "columns": 4,
                "rows": 5
              }
            },
            "text/html": [
              "<div>\n",
              "<style scoped>\n",
              "    .dataframe tbody tr th:only-of-type {\n",
              "        vertical-align: middle;\n",
              "    }\n",
              "\n",
              "    .dataframe tbody tr th {\n",
              "        vertical-align: top;\n",
              "    }\n",
              "\n",
              "    .dataframe thead th {\n",
              "        text-align: right;\n",
              "    }\n",
              "</style>\n",
              "<table border=\"1\" class=\"dataframe\">\n",
              "  <thead>\n",
              "    <tr style=\"text-align: right;\">\n",
              "      <th></th>\n",
              "      <th>Name</th>\n",
              "      <th>Math</th>\n",
              "      <th>Science</th>\n",
              "      <th>English</th>\n",
              "    </tr>\n",
              "  </thead>\n",
              "  <tbody>\n",
              "    <tr>\n",
              "      <th>0</th>\n",
              "      <td>Aarav</td>\n",
              "      <td>85</td>\n",
              "      <td>89</td>\n",
              "      <td>78</td>\n",
              "    </tr>\n",
              "    <tr>\n",
              "      <th>1</th>\n",
              "      <td>Isha</td>\n",
              "      <td>92</td>\n",
              "      <td>94</td>\n",
              "      <td>85</td>\n",
              "    </tr>\n",
              "    <tr>\n",
              "      <th>2</th>\n",
              "      <td>Rahul</td>\n",
              "      <td>78</td>\n",
              "      <td>82</td>\n",
              "      <td>88</td>\n",
              "    </tr>\n",
              "    <tr>\n",
              "      <th>3</th>\n",
              "      <td>Sneha</td>\n",
              "      <td>88</td>\n",
              "      <td>91</td>\n",
              "      <td>90</td>\n",
              "    </tr>\n",
              "    <tr>\n",
              "      <th>4</th>\n",
              "      <td>Ananya</td>\n",
              "      <td>95</td>\n",
              "      <td>87</td>\n",
              "      <td>92</td>\n",
              "    </tr>\n",
              "  </tbody>\n",
              "</table>\n",
              "</div>"
            ],
            "text/plain": [
              "     Name  Math  Science  English\n",
              "0   Aarav    85       89       78\n",
              "1    Isha    92       94       85\n",
              "2   Rahul    78       82       88\n",
              "3   Sneha    88       91       90\n",
              "4  Ananya    95       87       92"
            ]
          },
          "execution_count": 3,
          "metadata": {},
          "output_type": "execute_result"
        }
      ],
      "source": [
        "# Step 2 : Loading Data\n",
        "data = {\n",
        "    'Name' : ['Aarav','Isha','Rahul','Sneha','Ananya'],\n",
        "    'Math' : [85,92,78,88,95],\n",
        "    'Science': [89,94,82,91,87],\n",
        "    'English' : [78,85,88,90,92]\n",
        "}\n",
        "students_df = pd.DataFrame(data)\n",
        "students_df"
      ]
    },
    {
      "cell_type": "code",
      "execution_count": 5,
      "metadata": {},
      "outputs": [
        {
          "data": {
            "application/vnd.microsoft.datawrangler.viewer.v0+json": {
              "columns": [
                {
                  "name": "index",
                  "rawType": "object",
                  "type": "string"
                },
                {
                  "name": "Math",
                  "rawType": "float64",
                  "type": "float"
                },
                {
                  "name": "Science",
                  "rawType": "float64",
                  "type": "float"
                },
                {
                  "name": "English",
                  "rawType": "float64",
                  "type": "float"
                }
              ],
              "ref": "bde39eb8-8813-4737-a208-adc883b5778c",
              "rows": [
                [
                  "count",
                  "5.0",
                  "5.0",
                  "5.0"
                ],
                [
                  "mean",
                  "87.6",
                  "88.6",
                  "86.6"
                ],
                [
                  "std",
                  "6.580273550544841",
                  "4.505552130427525",
                  "5.458937625582473"
                ],
                [
                  "min",
                  "78.0",
                  "82.0",
                  "78.0"
                ],
                [
                  "25%",
                  "85.0",
                  "87.0",
                  "85.0"
                ],
                [
                  "50%",
                  "88.0",
                  "89.0",
                  "88.0"
                ],
                [
                  "75%",
                  "92.0",
                  "91.0",
                  "90.0"
                ],
                [
                  "max",
                  "95.0",
                  "94.0",
                  "92.0"
                ]
              ],
              "shape": {
                "columns": 3,
                "rows": 8
              }
            },
            "text/html": [
              "<div>\n",
              "<style scoped>\n",
              "    .dataframe tbody tr th:only-of-type {\n",
              "        vertical-align: middle;\n",
              "    }\n",
              "\n",
              "    .dataframe tbody tr th {\n",
              "        vertical-align: top;\n",
              "    }\n",
              "\n",
              "    .dataframe thead th {\n",
              "        text-align: right;\n",
              "    }\n",
              "</style>\n",
              "<table border=\"1\" class=\"dataframe\">\n",
              "  <thead>\n",
              "    <tr style=\"text-align: right;\">\n",
              "      <th></th>\n",
              "      <th>Math</th>\n",
              "      <th>Science</th>\n",
              "      <th>English</th>\n",
              "    </tr>\n",
              "  </thead>\n",
              "  <tbody>\n",
              "    <tr>\n",
              "      <th>count</th>\n",
              "      <td>5.000000</td>\n",
              "      <td>5.000000</td>\n",
              "      <td>5.000000</td>\n",
              "    </tr>\n",
              "    <tr>\n",
              "      <th>mean</th>\n",
              "      <td>87.600000</td>\n",
              "      <td>88.600000</td>\n",
              "      <td>86.600000</td>\n",
              "    </tr>\n",
              "    <tr>\n",
              "      <th>std</th>\n",
              "      <td>6.580274</td>\n",
              "      <td>4.505552</td>\n",
              "      <td>5.458938</td>\n",
              "    </tr>\n",
              "    <tr>\n",
              "      <th>min</th>\n",
              "      <td>78.000000</td>\n",
              "      <td>82.000000</td>\n",
              "      <td>78.000000</td>\n",
              "    </tr>\n",
              "    <tr>\n",
              "      <th>25%</th>\n",
              "      <td>85.000000</td>\n",
              "      <td>87.000000</td>\n",
              "      <td>85.000000</td>\n",
              "    </tr>\n",
              "    <tr>\n",
              "      <th>50%</th>\n",
              "      <td>88.000000</td>\n",
              "      <td>89.000000</td>\n",
              "      <td>88.000000</td>\n",
              "    </tr>\n",
              "    <tr>\n",
              "      <th>75%</th>\n",
              "      <td>92.000000</td>\n",
              "      <td>91.000000</td>\n",
              "      <td>90.000000</td>\n",
              "    </tr>\n",
              "    <tr>\n",
              "      <th>max</th>\n",
              "      <td>95.000000</td>\n",
              "      <td>94.000000</td>\n",
              "      <td>92.000000</td>\n",
              "    </tr>\n",
              "  </tbody>\n",
              "</table>\n",
              "</div>"
            ],
            "text/plain": [
              "            Math    Science    English\n",
              "count   5.000000   5.000000   5.000000\n",
              "mean   87.600000  88.600000  86.600000\n",
              "std     6.580274   4.505552   5.458938\n",
              "min    78.000000  82.000000  78.000000\n",
              "25%    85.000000  87.000000  85.000000\n",
              "50%    88.000000  89.000000  88.000000\n",
              "75%    92.000000  91.000000  90.000000\n",
              "max    95.000000  94.000000  92.000000"
            ]
          },
          "execution_count": 5,
          "metadata": {},
          "output_type": "execute_result"
        }
      ],
      "source": [
        "# Step 3 : Descriptive Statistics\n",
        "summary = students_df.describe()\n",
        "summary"
      ]
    },
    {
      "cell_type": "code",
      "execution_count": 6,
      "metadata": {},
      "outputs": [
        {
          "data": {
            "application/vnd.microsoft.datawrangler.viewer.v0+json": {
              "columns": [
                {
                  "name": "index",
                  "rawType": "object",
                  "type": "string"
                },
                {
                  "name": "Math",
                  "rawType": "float64",
                  "type": "float"
                },
                {
                  "name": "Science",
                  "rawType": "float64",
                  "type": "float"
                },
                {
                  "name": "English",
                  "rawType": "float64",
                  "type": "float"
                }
              ],
              "ref": "db06b12a-6822-43c8-8780-baa8bbdab595",
              "rows": [
                [
                  "mean",
                  "87.6",
                  "88.6",
                  "86.6"
                ],
                [
                  "median",
                  "88.0",
                  "89.0",
                  "88.0"
                ]
              ],
              "shape": {
                "columns": 3,
                "rows": 2
              }
            },
            "text/html": [
              "<div>\n",
              "<style scoped>\n",
              "    .dataframe tbody tr th:only-of-type {\n",
              "        vertical-align: middle;\n",
              "    }\n",
              "\n",
              "    .dataframe tbody tr th {\n",
              "        vertical-align: top;\n",
              "    }\n",
              "\n",
              "    .dataframe thead th {\n",
              "        text-align: right;\n",
              "    }\n",
              "</style>\n",
              "<table border=\"1\" class=\"dataframe\">\n",
              "  <thead>\n",
              "    <tr style=\"text-align: right;\">\n",
              "      <th></th>\n",
              "      <th>Math</th>\n",
              "      <th>Science</th>\n",
              "      <th>English</th>\n",
              "    </tr>\n",
              "  </thead>\n",
              "  <tbody>\n",
              "    <tr>\n",
              "      <th>mean</th>\n",
              "      <td>87.6</td>\n",
              "      <td>88.6</td>\n",
              "      <td>86.6</td>\n",
              "    </tr>\n",
              "    <tr>\n",
              "      <th>median</th>\n",
              "      <td>88.0</td>\n",
              "      <td>89.0</td>\n",
              "      <td>88.0</td>\n",
              "    </tr>\n",
              "  </tbody>\n",
              "</table>\n",
              "</div>"
            ],
            "text/plain": [
              "        Math  Science  English\n",
              "mean    87.6     88.6     86.6\n",
              "median  88.0     89.0     88.0"
            ]
          },
          "execution_count": 6,
          "metadata": {},
          "output_type": "execute_result"
        }
      ],
      "source": [
        "# Step 4 : Custom Aggregations\n",
        "custom_summary = students_df.agg({\n",
        "    'Math' : ['mean','median'],\n",
        "    'Science' : ['mean','median'],\n",
        "    'English' : ['mean','median']\n",
        "})\n",
        "custom_summary"
      ]
    },
    {
      "cell_type": "code",
      "execution_count": 11,
      "metadata": {},
      "outputs": [
        {
          "data": {
            "application/vnd.microsoft.datawrangler.viewer.v0+json": {
              "columns": [
                {
                  "name": "Performance",
                  "rawType": "object",
                  "type": "string"
                },
                {
                  "name": "Math",
                  "rawType": "float64",
                  "type": "float"
                },
                {
                  "name": "Science",
                  "rawType": "float64",
                  "type": "float"
                },
                {
                  "name": "English",
                  "rawType": "float64",
                  "type": "float"
                }
              ],
              "ref": "cf39e8e2-369d-4085-8478-895d335e5e80",
              "rows": [
                [
                  "Average",
                  "78.0",
                  "82.0",
                  "88.0"
                ],
                [
                  "Excellent",
                  "93.5",
                  "90.5",
                  "88.5"
                ],
                [
                  "Good",
                  "86.5",
                  "90.0",
                  "84.0"
                ]
              ],
              "shape": {
                "columns": 3,
                "rows": 3
              }
            },
            "text/html": [
              "<div>\n",
              "<style scoped>\n",
              "    .dataframe tbody tr th:only-of-type {\n",
              "        vertical-align: middle;\n",
              "    }\n",
              "\n",
              "    .dataframe tbody tr th {\n",
              "        vertical-align: top;\n",
              "    }\n",
              "\n",
              "    .dataframe thead th {\n",
              "        text-align: right;\n",
              "    }\n",
              "</style>\n",
              "<table border=\"1\" class=\"dataframe\">\n",
              "  <thead>\n",
              "    <tr style=\"text-align: right;\">\n",
              "      <th></th>\n",
              "      <th>Math</th>\n",
              "      <th>Science</th>\n",
              "      <th>English</th>\n",
              "    </tr>\n",
              "    <tr>\n",
              "      <th>Performance</th>\n",
              "      <th></th>\n",
              "      <th></th>\n",
              "      <th></th>\n",
              "    </tr>\n",
              "  </thead>\n",
              "  <tbody>\n",
              "    <tr>\n",
              "      <th>Average</th>\n",
              "      <td>78.0</td>\n",
              "      <td>82.0</td>\n",
              "      <td>88.0</td>\n",
              "    </tr>\n",
              "    <tr>\n",
              "      <th>Excellent</th>\n",
              "      <td>93.5</td>\n",
              "      <td>90.5</td>\n",
              "      <td>88.5</td>\n",
              "    </tr>\n",
              "    <tr>\n",
              "      <th>Good</th>\n",
              "      <td>86.5</td>\n",
              "      <td>90.0</td>\n",
              "      <td>84.0</td>\n",
              "    </tr>\n",
              "  </tbody>\n",
              "</table>\n",
              "</div>"
            ],
            "text/plain": [
              "             Math  Science  English\n",
              "Performance                        \n",
              "Average      78.0     82.0     88.0\n",
              "Excellent    93.5     90.5     88.5\n",
              "Good         86.5     90.0     84.0"
            ]
          },
          "execution_count": 11,
          "metadata": {},
          "output_type": "execute_result"
        }
      ],
      "source": [
        "# Step 5 : Grouped Summaries\n",
        "students_df['Performance'] = ['Good','Excellent','Average','Good','Excellent']\n",
        "grouped_summary = students_df.groupby('Performance').mean(numeric_only=True)\n",
        "grouped_summary"
      ]
    },
    {
      "cell_type": "markdown",
      "metadata": {},
      "source": [
        "## Attributes and Methods of Pandas for Data Summary\n",
        "\n",
        "- mean()\n",
        "- median()\n",
        "- mode()\n",
        "- std()\n",
        "- var()\n",
        "- sum()\n",
        "- min() and max()\n",
        "- count() "
      ]
    },
    {
      "cell_type": "markdown",
      "metadata": {},
      "source": [
        "## Example : Analyzing Exam Scores"
      ]
    },
    {
      "cell_type": "code",
      "execution_count": 12,
      "metadata": {},
      "outputs": [],
      "source": [
        "import pandas as pd"
      ]
    },
    {
      "cell_type": "code",
      "execution_count": 14,
      "metadata": {},
      "outputs": [
        {
          "data": {
            "application/vnd.microsoft.datawrangler.viewer.v0+json": {
              "columns": [
                {
                  "name": "index",
                  "rawType": "int64",
                  "type": "integer"
                },
                {
                  "name": "Name",
                  "rawType": "object",
                  "type": "string"
                },
                {
                  "name": "Math",
                  "rawType": "int64",
                  "type": "integer"
                },
                {
                  "name": "Science",
                  "rawType": "int64",
                  "type": "integer"
                },
                {
                  "name": "English",
                  "rawType": "int64",
                  "type": "integer"
                }
              ],
              "ref": "9b50cf88-9e61-470f-804f-c92311bcddf5",
              "rows": [
                [
                  "0",
                  "Aarav",
                  "85",
                  "89",
                  "78"
                ],
                [
                  "1",
                  "Isha",
                  "92",
                  "94",
                  "85"
                ],
                [
                  "2",
                  "Rahul",
                  "78",
                  "82",
                  "88"
                ],
                [
                  "3",
                  "Sneha",
                  "88",
                  "91",
                  "90"
                ],
                [
                  "4",
                  "Ananya",
                  "95",
                  "87",
                  "92"
                ]
              ],
              "shape": {
                "columns": 4,
                "rows": 5
              }
            },
            "text/html": [
              "<div>\n",
              "<style scoped>\n",
              "    .dataframe tbody tr th:only-of-type {\n",
              "        vertical-align: middle;\n",
              "    }\n",
              "\n",
              "    .dataframe tbody tr th {\n",
              "        vertical-align: top;\n",
              "    }\n",
              "\n",
              "    .dataframe thead th {\n",
              "        text-align: right;\n",
              "    }\n",
              "</style>\n",
              "<table border=\"1\" class=\"dataframe\">\n",
              "  <thead>\n",
              "    <tr style=\"text-align: right;\">\n",
              "      <th></th>\n",
              "      <th>Name</th>\n",
              "      <th>Math</th>\n",
              "      <th>Science</th>\n",
              "      <th>English</th>\n",
              "    </tr>\n",
              "  </thead>\n",
              "  <tbody>\n",
              "    <tr>\n",
              "      <th>0</th>\n",
              "      <td>Aarav</td>\n",
              "      <td>85</td>\n",
              "      <td>89</td>\n",
              "      <td>78</td>\n",
              "    </tr>\n",
              "    <tr>\n",
              "      <th>1</th>\n",
              "      <td>Isha</td>\n",
              "      <td>92</td>\n",
              "      <td>94</td>\n",
              "      <td>85</td>\n",
              "    </tr>\n",
              "    <tr>\n",
              "      <th>2</th>\n",
              "      <td>Rahul</td>\n",
              "      <td>78</td>\n",
              "      <td>82</td>\n",
              "      <td>88</td>\n",
              "    </tr>\n",
              "    <tr>\n",
              "      <th>3</th>\n",
              "      <td>Sneha</td>\n",
              "      <td>88</td>\n",
              "      <td>91</td>\n",
              "      <td>90</td>\n",
              "    </tr>\n",
              "    <tr>\n",
              "      <th>4</th>\n",
              "      <td>Ananya</td>\n",
              "      <td>95</td>\n",
              "      <td>87</td>\n",
              "      <td>92</td>\n",
              "    </tr>\n",
              "  </tbody>\n",
              "</table>\n",
              "</div>"
            ],
            "text/plain": [
              "     Name  Math  Science  English\n",
              "0   Aarav    85       89       78\n",
              "1    Isha    92       94       85\n",
              "2   Rahul    78       82       88\n",
              "3   Sneha    88       91       90\n",
              "4  Ananya    95       87       92"
            ]
          },
          "execution_count": 14,
          "metadata": {},
          "output_type": "execute_result"
        }
      ],
      "source": [
        "data = {\n",
        "    'Name': ['Aarav', 'Isha', 'Rahul', 'Sneha', 'Ananya'],\n",
        "    'Math': [85, 92, 78, 88, 95],\n",
        "    'Science': [89, 94, 82, 91, 87],\n",
        "    'English': [78, 85, 88, 90, 92]\n",
        "}\n",
        "students_df = pd.DataFrame(data)\n",
        "students_df"
      ]
    },
    {
      "cell_type": "code",
      "execution_count": 15,
      "metadata": {},
      "outputs": [
        {
          "name": "stdout",
          "output_type": "stream",
          "text": [
            "Descriptive Statistics:              Math    Science    English\n",
            "count   5.000000   5.000000   5.000000\n",
            "mean   87.600000  88.600000  86.600000\n",
            "std     6.580274   4.505552   5.458938\n",
            "min    78.000000  82.000000  78.000000\n",
            "25%    85.000000  87.000000  85.000000\n",
            "50%    88.000000  89.000000  88.000000\n",
            "75%    92.000000  91.000000  90.000000\n",
            "max    95.000000  94.000000  92.000000\n"
          ]
        }
      ],
      "source": [
        "# Descriptive statistics\n",
        "summary = students_df.describe()\n",
        "print(\"Descriptive Statistics: \",summary)"
      ]
    },
    {
      "cell_type": "code",
      "execution_count": 16,
      "metadata": {},
      "outputs": [
        {
          "name": "stdout",
          "output_type": "stream",
          "text": [
            "Custom Aggregations:          Math  Science  English\n",
            "mean    87.6     88.6     86.6\n",
            "median  88.0     89.0     88.0\n"
          ]
        }
      ],
      "source": [
        "# Custom aggregations\n",
        "custom_summary = students_df.agg({\n",
        "    'Math': ['mean', 'median'],\n",
        "    'Science': ['mean', 'median'],\n",
        "    'English': ['mean', 'median']\n",
        "})\n",
        "print(\"Custom Aggregations: \", custom_summary)"
      ]
    },
    {
      "cell_type": "code",
      "execution_count": 17,
      "metadata": {},
      "outputs": [
        {
          "name": "stdout",
          "output_type": "stream",
          "text": [
            "Grouped Summary by Performance :               Math  Science  English\n",
            "Performance                        \n",
            "Average      78.0     82.0     88.0\n",
            "Excellent    93.5     90.5     88.5\n",
            "Good         86.5     90.0     84.0\n"
          ]
        }
      ],
      "source": [
        "# Grouped Summary\n",
        "students_df['Performance'] = ['Good', 'Excellent', 'Average', 'Good', 'Excellent']\n",
        "grouped_summary = students_df.groupby('Performance').mean(numeric_only=True)\n",
        "print(\"Grouped Summary by Performance : \", grouped_summary)\n"
      ]
    },
    {
      "cell_type": "markdown",
      "metadata": {},
      "source": [
        "## Applications of Data Summary\n",
        "\n",
        "- Data Preprocessing\n",
        "- Feature Engineering\n",
        "- Model Evaluation\n",
        "- Decision Making"
      ]
    }
  ],
  "metadata": {
    "colab": {
      "provenance": []
    },
    "kernelspec": {
      "display_name": "Python 3",
      "name": "python3"
    },
    "language_info": {
      "codemirror_mode": {
        "name": "ipython",
        "version": 3
      },
      "file_extension": ".py",
      "mimetype": "text/x-python",
      "name": "python",
      "nbconvert_exporter": "python",
      "pygments_lexer": "ipython3",
      "version": "3.10.0rc2"
    }
  },
  "nbformat": 4,
  "nbformat_minor": 0
}
