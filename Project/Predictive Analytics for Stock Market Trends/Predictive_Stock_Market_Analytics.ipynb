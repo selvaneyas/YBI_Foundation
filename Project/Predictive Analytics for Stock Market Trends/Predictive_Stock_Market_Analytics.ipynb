{
 "cells": [
  {
   "cell_type": "markdown",
   "id": "c18dfd87",
   "metadata": {},
   "source": [
    "# Predictive Analytics for Stock Market Trends\n",
    "\n",
    "\n",
    "This notebook walks through the complete pipeline of building machine‑learning models to predict stock market trends using publicly available historical price data."
   ]
  },
  {
   "cell_type": "markdown",
   "id": "060d9212",
   "metadata": {},
   "source": [
    "## Objective\n",
    "- Predict the **next day's closing price** of a chosen stock index (default: *NIFTY 50*) and\n",
    "- Classify whether the price will **move Up or Down**.\n",
    "\n",
    "We will compare several models and discuss their merits, with reproducible code you can adapt to any ticker symbol."
   ]
  },
  {
   "cell_type": "markdown",
   "id": "c0a91036",
   "metadata": {},
   "source": [
    "## Data Source\n",
    "Historical prices are downloaded on‑the‑fly from **Yahoo Finance** via the `yfinance` Python package. Data includes *Open, High, Low, Close, Adj Close,* and *Volume* columns.\n",
    "\n",
    "> **Note**: Internet connection is required when first running the notebook to fetch data."
   ]
  },
  {
   "cell_type": "markdown",
   "id": "1f7f8121",
   "metadata": {},
   "source": [
    "## Import Libraries"
   ]
  },
  {
   "cell_type": "code",
   "execution_count": null,
   "id": "4b187e45",
   "metadata": {},
   "outputs": [],
   "source": [
    "!pip -q install yfinance ta statsmodels shap scikit-learn matplotlib seaborn"
   ]
  },
  {
   "cell_type": "code",
   "execution_count": null,
   "id": "6b6c3106",
   "metadata": {},
   "outputs": [],
   "source": [
    "# Install dependencies (uncomment when running locally)\n",
    "# !pip -q install yfinance ta statsmodels shap scikit-learn matplotlib seaborn\n",
    "\n",
    "import yfinance as yf\n",
    "import pandas as pd\n",
    "import numpy as np\n",
    "import matplotlib.pyplot as plt\n",
    "import seaborn as sns\n",
    "from ta import add_all_ta_features\n",
    "from sklearn.model_selection import train_test_split, TimeSeriesSplit, GridSearchCV\n",
    "from sklearn.preprocessing import StandardScaler\n",
    "from sklearn.linear_model import LinearRegression\n",
    "from sklearn.ensemble import RandomForestRegressor\n",
    "from sklearn.metrics import mean_absolute_error, mean_squared_error, r2_score, classification_report, confusion_matrix\n",
    "import shap\n",
    "sns.set_style('whitegrid')\n",
    "%matplotlib inline\n"
   ]
  },
  {
   "cell_type": "markdown",
   "id": "86a02f70",
   "metadata": {},
   "source": [
    "## Import Data"
   ]
  },
  {
   "cell_type": "code",
   "execution_count": null,
   "id": "6e74a9bf",
   "metadata": {},
   "outputs": [],
   "source": [
    "# Choose ticker and date range\n",
    "ticker = '^NSEI'  # NIFTY 50 Index\n",
    "start_date = '2015-01-01'\n",
    "end_date   = None   # today\n",
    "\n",
    "df = yf.download(ticker, start=start_date, end=end_date, progress=False)\n",
    "df.head()\n"
   ]
  },
  {
   "cell_type": "markdown",
   "id": "15b5ebe5",
   "metadata": {},
   "source": [
    "## Describe Data"
   ]
  },
  {
   "cell_type": "code",
   "execution_count": null,
   "id": "d51d5439",
   "metadata": {},
   "outputs": [],
   "source": [
    "df.describe().T"
   ]
  },
  {
   "cell_type": "markdown",
   "id": "c5da666f",
   "metadata": {},
   "source": [
    "## Exploratory Data Analysis"
   ]
  },
  {
   "cell_type": "code",
   "execution_count": null,
   "id": "5e08d95f",
   "metadata": {},
   "outputs": [],
   "source": [
    "plt.figure(figsize=(12,4))\n",
    "plt.plot(df['Close'])\n",
    "plt.title(f'{ticker} Closing Price')\n",
    "plt.xlabel('Date')\n",
    "plt.ylabel('Price')\n",
    "plt.show()\n"
   ]
  },
  {
   "cell_type": "markdown",
   "id": "b9a5294d",
   "metadata": {},
   "source": [
    "## Feature Engineering – Technical Indicators"
   ]
  },
  {
   "cell_type": "code",
   "execution_count": null,
   "id": "de3a291b",
   "metadata": {},
   "outputs": [],
   "source": [
    "# Use the 'ta' package to compute ~40 technical indicators\n",
    "df_ta = add_all_ta_features(\n",
    "    df.copy(),\n",
    "    open='Open', high='High', low='Low', close='Close', volume='Volume')\n",
    "\n",
    "# Shift close to obtain next‑day target\n",
    "df_ta['Target_Close'] = df_ta['Close'].shift(-1)\n",
    "\n",
    "# Binary target (Up = 1, Down = 0)\n",
    "df_ta['Target_Direction'] = (df_ta['Target_Close'] > df_ta['Close']).astype(int)\n",
    "\n",
    "# Drop rows with NaN values introduced by TA calculation\n",
    "df_ta.dropna(inplace=True)\n",
    "\n",
    "df_ta.head()\n"
   ]
  },
  {
   "cell_type": "markdown",
   "id": "0e4919df",
   "metadata": {},
   "source": [
    "## Data Preprocessing"
   ]
  },
  {
   "cell_type": "code",
   "execution_count": null,
   "id": "72a6445f",
   "metadata": {},
   "outputs": [],
   "source": [
    "# Separate features and targets\n",
    "feature_cols = df_ta.columns.difference(['Target_Close', 'Target_Direction'])\n",
    "X = df_ta[feature_cols]\n",
    "y_reg = df_ta['Target_Close']\n",
    "y_cls = df_ta['Target_Direction']\n",
    "\n",
    "# Train‑test split preserving temporal order (last 20% as test)\n",
    "split_idx = int(len(df_ta)*0.8)\n",
    "X_train, X_test = X.iloc[:split_idx], X.iloc[split_idx:]\n",
    "y_reg_train, y_reg_test = y_reg.iloc[:split_idx], y_reg.iloc[split_idx:]\n",
    "y_cls_train, y_cls_test = y_cls.iloc[:split_idx], y_cls.iloc[split_idx:]\n",
    "\n",
    "# Scale features\n",
    "scaler = StandardScaler()\n",
    "X_train_scaled = scaler.fit_transform(X_train)\n",
    "X_test_scaled  = scaler.transform(X_test)\n"
   ]
  },
  {
   "cell_type": "markdown",
   "id": "f194ac81",
   "metadata": {},
   "source": [
    "## Modeling – Regression (Predict Price)"
   ]
  },
  {
   "cell_type": "code",
   "execution_count": null,
   "id": "514d70ef",
   "metadata": {},
   "outputs": [],
   "source": [
    "models = {\n",
    "    'Linear Regression': LinearRegression(),\n",
    "    'Random Forest'    : RandomForestRegressor(\n",
    "                            n_estimators=300,\n",
    "                            max_depth=None,\n",
    "                            n_jobs=-1,\n",
    "                            random_state=42)\n",
    "}\n",
    "\n",
    "reg_results = {}\n",
    "for name, model in models.items():\n",
    "    model.fit(X_train_scaled, y_reg_train)\n",
    "    preds = model.predict(X_test_scaled)\n",
    "    reg_results[name] = {\n",
    "        'MAE': mean_absolute_error(y_reg_test, preds),\n",
    "        'RMSE': np.sqrt(mean_squared_error(y_reg_test, preds)),\n",
    "        'R²': r2_score(y_reg_test, preds)\n",
    "    }\n",
    "\n",
    "pd.DataFrame(reg_results).T\n"
   ]
  },
  {
   "cell_type": "markdown",
   "id": "4c16c5a0",
   "metadata": {},
   "source": [
    "### Modeling – Classification (Up / Down)"
   ]
  },
  {
   "cell_type": "code",
   "execution_count": null,
   "id": "638ea8a9",
   "metadata": {},
   "outputs": [],
   "source": [
    "from sklearn.ensemble import GradientBoostingClassifier\n",
    "\n",
    "cls_model = GradientBoostingClassifier(random_state=42)\n",
    "cls_model.fit(X_train_scaled, y_cls_train)\n",
    "cls_pred = cls_model.predict(X_test_scaled)\n",
    "\n",
    "print(classification_report(y_cls_test, cls_pred, target_names=['Down','Up']))\n",
    "conf_mat = confusion_matrix(y_cls_test, cls_pred)\n",
    "\n",
    "sns.heatmap(conf_mat, annot=True, fmt='d', cmap='Blues')\n",
    "plt.title('Confusion Matrix')\n",
    "plt.show()\n"
   ]
  },
  {
   "cell_type": "markdown",
   "id": "b598596f",
   "metadata": {},
   "source": [
    "## Prediction vs Actual – Regression"
   ]
  },
  {
   "cell_type": "code",
   "execution_count": null,
   "id": "005345ca",
   "metadata": {},
   "outputs": [],
   "source": [
    "best_model_name = min(reg_results, key=lambda k: reg_results[k]['RMSE'])\n",
    "best_model = models[best_model_name]\n",
    "pred = best_model.predict(X_test_scaled)\n",
    "\n",
    "plt.figure(figsize=(12,4))\n",
    "plt.plot(y_reg_test.values, label='Actual')\n",
    "plt.plot(pred, label='Predicted')\n",
    "plt.title(f'Actual vs Predicted Closing Price ({best_model_name})')\n",
    "plt.legend()\n",
    "plt.show()\n"
   ]
  },
  {
   "cell_type": "markdown",
   "id": "021610e7",
   "metadata": {},
   "source": [
    "## Explainability – SHAP Feature Importance"
   ]
  },
  {
   "cell_type": "code",
   "execution_count": null,
   "id": "3e121afe",
   "metadata": {},
   "outputs": [],
   "source": [
    "# Compute SHAP values for a sample subset to save time\n",
    "explainer = shap.Explainer(best_model, X_train_scaled)\n",
    "shap_values = explainer(X_test_scaled[:100])\n",
    "\n",
    "shap.plots.beeswarm(shap_values)\n"
   ]
  },
  {
   "cell_type": "markdown",
   "id": "41343c66",
   "metadata": {},
   "source": [
    "## Conclusion\n",
    "- Technical indicators can improve predictive performance over raw price data alone.\n",
    "- *Random Forest* often excels at non‑linear relationships but can overfit.\n",
    "- Always evaluate models on **out‑of‑sample** data and update with new data.\n",
    "- Consider more advanced architectures (e.g., LSTM/Transformer) for sequential dependencies."
   ]
  }
 ],
 "metadata": {
  "kernelspec": {
   "display_name": "Python 3",
   "language": "python",
   "name": "python3"
  },
  "language_info": {
   "codemirror_mode": {
    "name": "ipython",
    "version": 3
   },
   "file_extension": ".py",
   "mimetype": "text/x-python",
   "name": "python",
   "nbconvert_exporter": "python",
   "pygments_lexer": "ipython3",
   "version": "3.13.1"
  }
 },
 "nbformat": 4,
 "nbformat_minor": 5
}
