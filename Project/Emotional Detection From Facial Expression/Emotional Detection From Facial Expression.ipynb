{
 "cells": [
  {
   "cell_type": "markdown",
   "id": "0f1dc237",
   "metadata": {},
   "source": [
    "#   **Emotional Detection From Facial Expression**"
   ]
  },
  {
   "cell_type": "markdown",
   "id": "d9bc0a5e",
   "metadata": {},
   "source": [
    "- **Emotion detection** is the process of identifying human emotions (like happy, sad, angry, surprised) from images or videos of faces.\n",
    "\n",
    "- **Facial expressions** carry a lot of emotional information—our muscles form patterns that can be detected using machine learning."
   ]
  },
  {
   "cell_type": "markdown",
   "id": "c33f59a4",
   "metadata": {},
   "source": []
  }
 ],
 "metadata": {
  "language_info": {
   "name": "python"
  }
 },
 "nbformat": 4,
 "nbformat_minor": 5
}
