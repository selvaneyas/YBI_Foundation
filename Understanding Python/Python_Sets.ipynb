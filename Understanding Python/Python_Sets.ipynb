{
  "cells": [
    {
      "cell_type": "markdown",
      "metadata": {
        "id": "FxVdoMheM4kJ"
      },
      "source": [
        "# Python Sets"
      ]
    },
    {
      "cell_type": "markdown",
      "metadata": {
        "id": "uU-JnzzSMfaJ"
      },
      "source": [
        "Python, a versatile language, offers a variety of built-in data structures, one of which is the set.\n",
        "\n",
        "A set in python is an unordered collection of unique elements.\n",
        "\n",
        "Unlike lists or tuples, sets do not allow duplicate values."
      ]
    },
    {
      "cell_type": "markdown",
      "metadata": {},
      "source": [
        "## Properties of Python Sets\n",
        "1. Unordered\n",
        "2. Immutable Elements\n",
        "3. No Duplicates"
      ]
    },
    {
      "cell_type": "markdown",
      "metadata": {},
      "source": [
        "## Creating a Set"
      ]
    },
    {
      "cell_type": "code",
      "execution_count": 1,
      "metadata": {
        "id": "qDeiXS2NM5gy"
      },
      "outputs": [
        {
          "name": "stdout",
          "output_type": "stream",
          "text": [
            "{'Bhavna', 'Aarav', 'Arav', 'Chita'}\n"
          ]
        }
      ],
      "source": [
        "# Creating a set using curly braces\n",
        "students = {\"Arav\",\"Bhavna\",\"Chita\",\"Aarav\"}\n",
        "print(students)"
      ]
    },
    {
      "cell_type": "code",
      "execution_count": 2,
      "metadata": {},
      "outputs": [
        {
          "name": "stdout",
          "output_type": "stream",
          "text": [
            "{1, 2, 3, 4, 5}\n"
          ]
        }
      ],
      "source": [
        "# creating a set using the set() constructor\n",
        "numbers = set([1,2,3,4,4,5])\n",
        "print(numbers)"
      ]
    },
    {
      "cell_type": "markdown",
      "metadata": {},
      "source": [
        "## Attributes and Methods of sets\n",
        "\n",
        "- add()\n",
        "- remove()\n",
        "- discard()\n",
        "- pop()\n",
        "- clear()\n",
        "- union()\n",
        "- intersection()\n",
        "- difference()\n",
        "- symmetric_difference()\n"
      ]
    },
    {
      "cell_type": "code",
      "execution_count": 3,
      "metadata": {},
      "outputs": [
        {
          "name": "stdout",
          "output_type": "stream",
          "text": [
            "{'Bhavna', 'Aarav', 'Dev', 'Chitra'}\n"
          ]
        }
      ],
      "source": [
        "# Example of add() and remove()\n",
        "class_a = {\"Aarav\",\"Bhavna\",\"Chitra\"}\n",
        "class_a.add(\"Dev\")\n",
        "print(class_a)"
      ]
    },
    {
      "cell_type": "code",
      "execution_count": 4,
      "metadata": {},
      "outputs": [
        {
          "name": "stdout",
          "output_type": "stream",
          "text": [
            "{'Aarav', 'Dev', 'Chitra'}\n"
          ]
        }
      ],
      "source": [
        "class_a.remove(\"Bhavna\")\n",
        "print(class_a)"
      ]
    },
    {
      "cell_type": "code",
      "execution_count": 6,
      "metadata": {},
      "outputs": [
        {
          "name": "stdout",
          "output_type": "stream",
          "text": [
            "{'Esha', 'Dev', 'Farhan', 'Chitra', 'Aarav'}\n"
          ]
        }
      ],
      "source": [
        "# Example of union() and intersection()\n",
        "class_b = {\"Esha\",\"Farhan\",\"Chitra\"}\n",
        "\n",
        "all_students = class_a.union(class_b)\n",
        "print(all_students)"
      ]
    },
    {
      "cell_type": "code",
      "execution_count": 7,
      "metadata": {},
      "outputs": [
        {
          "name": "stdout",
          "output_type": "stream",
          "text": [
            "{'Chitra'}\n"
          ]
        }
      ],
      "source": [
        "common_students = class_a.intersection(class_b)\n",
        "print(common_students)"
      ]
    },
    {
      "cell_type": "markdown",
      "metadata": {},
      "source": [
        "## Applications of Sets\n",
        "- Data Preprocessing\n",
        "- Feature Selection\n",
        "- Similarity and Clustering"
      ]
    }
  ],
  "metadata": {
    "colab": {
      "provenance": []
    },
    "kernelspec": {
      "display_name": "Python 3",
      "name": "python3"
    },
    "language_info": {
      "codemirror_mode": {
        "name": "ipython",
        "version": 3
      },
      "file_extension": ".py",
      "mimetype": "text/x-python",
      "name": "python",
      "nbconvert_exporter": "python",
      "pygments_lexer": "ipython3",
      "version": "3.13.1"
    }
  },
  "nbformat": 4,
  "nbformat_minor": 0
}
