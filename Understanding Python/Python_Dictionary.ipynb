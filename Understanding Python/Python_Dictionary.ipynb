{
  "cells": [
    {
      "cell_type": "markdown",
      "metadata": {
        "id": "z_Y7nnxsNGsx"
      },
      "source": [
        "# Python Dictionary"
      ]
    },
    {
      "cell_type": "markdown",
      "metadata": {},
      "source": [
        "A Python dictionary is an unordered collection of items. Each item in a dictionary is stored as a pair, consisting of a key and its corresponding value."
      ]
    },
    {
      "cell_type": "markdown",
      "metadata": {},
      "source": [
        "## Properties of Python dictionaries\n",
        "- Unordered\n",
        "- Mutable\n",
        "- Keys are Immutable\n",
        "- Fast Access"
      ]
    },
    {
      "cell_type": "markdown",
      "metadata": {},
      "source": [
        "## Creating a Python Dictionary"
      ]
    },
    {
      "cell_type": "code",
      "execution_count": 1,
      "metadata": {
        "id": "6RURUKCjNFq5"
      },
      "outputs": [],
      "source": [
        "# Creating a dictionary with Indian context\n",
        "student_marks = {\n",
        "    'Aarav':85,\n",
        "    'Isha':92,\n",
        "    'Neha':78,\n",
        "    'Rohan':88\n",
        "}"
      ]
    },
    {
      "cell_type": "markdown",
      "metadata": {},
      "source": [
        "## Attributes and Methods of Python Dictionaries\n",
        "\n",
        "- dicts.keys()\n",
        "- dict.values()\n",
        "- dict.items()\n",
        "- dict.get(key)\n",
        "- dict.update()"
      ]
    },
    {
      "cell_type": "code",
      "execution_count": 2,
      "metadata": {},
      "outputs": [
        {
          "name": "stdout",
          "output_type": "stream",
          "text": [
            "dict_keys(['Aarav', 'Isha', 'Neha', 'Rohan'])\n"
          ]
        }
      ],
      "source": [
        "keys = student_marks.keys()\n",
        "print(keys)"
      ]
    },
    {
      "cell_type": "code",
      "execution_count": 3,
      "metadata": {},
      "outputs": [
        {
          "name": "stdout",
          "output_type": "stream",
          "text": [
            "dict_values([85, 92, 78, 88])\n"
          ]
        }
      ],
      "source": [
        "values = student_marks.values()\n",
        "print(values)"
      ]
    },
    {
      "cell_type": "code",
      "execution_count": 4,
      "metadata": {},
      "outputs": [
        {
          "name": "stdout",
          "output_type": "stream",
          "text": [
            "dict_items([('Aarav', 85), ('Isha', 92), ('Neha', 78), ('Rohan', 88)])\n"
          ]
        }
      ],
      "source": [
        "items = student_marks.items()\n",
        "print(items)"
      ]
    },
    {
      "cell_type": "code",
      "execution_count": 6,
      "metadata": {},
      "outputs": [
        {
          "name": "stdout",
          "output_type": "stream",
          "text": [
            "92\n"
          ]
        }
      ],
      "source": [
        "mark = student_marks.get('Isha')\n",
        "print(mark)"
      ]
    },
    {
      "cell_type": "code",
      "execution_count": 7,
      "metadata": {},
      "outputs": [
        {
          "name": "stdout",
          "output_type": "stream",
          "text": [
            "{'Aarav': 85, 'Isha': 92, 'Neha': 78, 'Rohan': 88, 'Vikram': 90}\n"
          ]
        }
      ],
      "source": [
        "new_marks = {'Vikram':90}\n",
        "student_marks.update(new_marks)\n",
        "print(student_marks)"
      ]
    },
    {
      "cell_type": "markdown",
      "metadata": {},
      "source": [
        "## Example : Using Python Dictionaries"
      ]
    },
    {
      "cell_type": "code",
      "execution_count": 8,
      "metadata": {},
      "outputs": [],
      "source": [
        "# Dictionary to store student information\n",
        "student_info = {\n",
        "    'Aarav': {'age':14, 'grade':'9th','city':'Mumbai'},\n",
        "    'Isha': {'age':15, 'grade':'10th','city':'Delhi'},\n",
        "    'Neha': {'age':14, 'grade':'9th','city':'Bangalore'},\n",
        "    'Rohan': {'age':15, 'grade':'10th','city':'Chennai'}\n",
        "}"
      ]
    },
    {
      "cell_type": "code",
      "execution_count": 9,
      "metadata": {},
      "outputs": [
        {
          "name": "stdout",
          "output_type": "stream",
          "text": [
            "{'age': 14, 'grade': '9th', 'city': 'Mumbai'}\n"
          ]
        }
      ],
      "source": [
        "# Accessing nested dictionary\n",
        "aarav_info = student_info['Aarav']\n",
        "print(aarav_info)"
      ]
    },
    {
      "cell_type": "code",
      "execution_count": 10,
      "metadata": {},
      "outputs": [],
      "source": [
        "# Adding a new student\n",
        "student_info['Vikram'] = {'age':16, 'grade':'11th', 'city':'Hyderabad'}"
      ]
    },
    {
      "cell_type": "code",
      "execution_count": 11,
      "metadata": {},
      "outputs": [],
      "source": [
        "# Updating a student's information\n",
        "student_info['Neha']['city'] = 'Pune'"
      ]
    },
    {
      "cell_type": "code",
      "execution_count": 12,
      "metadata": {},
      "outputs": [
        {
          "name": "stdout",
          "output_type": "stream",
          "text": [
            "{'Aarav': {'age': 14, 'grade': '9th', 'city': 'Mumbai'}, 'Isha': {'age': 15, 'grade': '10th', 'city': 'Delhi'}, 'Neha': {'age': 14, 'grade': '9th', 'city': 'Pune'}, 'Rohan': {'age': 15, 'grade': '10th', 'city': 'Chennai'}, 'Vikram': {'age': 16, 'grade': '11th', 'city': 'Hyderabad'}}\n"
          ]
        }
      ],
      "source": [
        "print(student_info)"
      ]
    },
    {
      "cell_type": "markdown",
      "metadata": {},
      "source": [
        "## Applications of Python Dictionaries\n",
        "\n",
        "1. Data Storage\n",
        "2. Machine Learning\n",
        "3. Natural Language Processing(NLP)\n",
        "4. Chatbots"
      ]
    },
    {
      "cell_type": "code",
      "execution_count": 15,
      "metadata": {},
      "outputs": [
        {
          "name": "stdout",
          "output_type": "stream",
          "text": [
            "<class 'list'>\n"
          ]
        }
      ],
      "source": [
        "print(type([]))"
      ]
    },
    {
      "cell_type": "code",
      "execution_count": null,
      "metadata": {},
      "outputs": [],
      "source": []
    }
  ],
  "metadata": {
    "colab": {
      "provenance": []
    },
    "kernelspec": {
      "display_name": "Python 3",
      "name": "python3"
    },
    "language_info": {
      "codemirror_mode": {
        "name": "ipython",
        "version": 3
      },
      "file_extension": ".py",
      "mimetype": "text/x-python",
      "name": "python",
      "nbconvert_exporter": "python",
      "pygments_lexer": "ipython3",
      "version": "3.13.1"
    }
  },
  "nbformat": 4,
  "nbformat_minor": 0
}
