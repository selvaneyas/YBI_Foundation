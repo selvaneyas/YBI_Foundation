{
  "cells": [
    {
      "cell_type": "markdown",
      "metadata": {
        "id": "AxEGa3QbMTqP"
      },
      "source": [
        "# Python Loops"
      ]
    },
    {
      "cell_type": "markdown",
      "metadata": {},
      "source": [
        "## Types of Loop in python\n",
        "- For Loop\n",
        "- While Loop"
      ]
    },
    {
      "cell_type": "markdown",
      "metadata": {},
      "source": [
        "## 'For' Loop\n",
        "The 'for' loop is used to iterate over a sequence (such as a list, tuple,..)\n",
        "```python\n",
        "for element in sequence:\n",
        "    # Code block to execute\n",
        "```"
      ]
    },
    {
      "cell_type": "code",
      "execution_count": 1,
      "metadata": {},
      "outputs": [
        {
          "name": "stdout",
          "output_type": "stream",
          "text": [
            "Working on Neural Networks model\n",
            "Working on Decision Trees model\n",
            "Working on Support Vector Machines model\n",
            "Working on Random Forests model\n"
          ]
        }
      ],
      "source": [
        "# Imagine Rohan , an AI Developer from Benguluru wants to iterate over a list of AI models he is Working on\n",
        "\n",
        "ai_models = ['Neural Networks', 'Decision Trees', 'Support Vector Machines', 'Random Forests']\n",
        "\n",
        "for model in ai_models:\n",
        "    print(f\"Working on {model} model\")"
      ]
    },
    {
      "cell_type": "markdown",
      "metadata": {},
      "source": [
        "## 'While' Loop\n",
        "The 'while' loop is used to execute a block of code repeatedly while a certain condition is met\n",
        "\n",
        "```python\n",
        "while condition:\n",
        "    # code block to execute\n",
        "```"
      ]
    },
    {
      "cell_type": "code",
      "execution_count": 2,
      "metadata": {},
      "outputs": [
        {
          "name": "stdout",
          "output_type": "stream",
          "text": [
            "Cleaning data... Iteration 0\n",
            "Cleaning data... Iteration 1\n",
            "Cleaning data... Iteration 2\n",
            "Cleaning data... Iteration 3\n",
            "Cleaning data... Iteration 4\n"
          ]
        }
      ],
      "source": [
        "data_cleaned = False\n",
        "iterations = 0\n",
        "\n",
        "while not data_cleaned:\n",
        "    print(f\"Cleaning data... Iteration {iterations}\")\n",
        "    iterations += 1\n",
        "    if iterations >= 5:\n",
        "        data_cleaned = True\n",
        "\n"
      ]
    },
    {
      "cell_type": "markdown",
      "metadata": {},
      "source": [
        "## Nested Loop\n",
        "A nested loop is a loop that is contained within another loop. The outer loop iterates over the outer array, and the inner loop iterates over the inner array. The inner loop is executed for each iteration of the outer loop."
      ]
    },
    {
      "cell_type": "code",
      "execution_count": 3,
      "metadata": {
        "id": "jSmT_PPxMJJo"
      },
      "outputs": [
        {
          "name": "stdout",
          "output_type": "stream",
          "text": [
            "Evaluating KNN on Dataset A\n",
            "Evaluating KNN on Dataset B\n",
            "Evaluating KNN on Dataset C\n",
            "Evaluating Naive Bayes on Dataset A\n",
            "Evaluating Naive Bayes on Dataset B\n",
            "Evaluating Naive Bayes on Dataset C\n",
            "Evaluating Logistic Regression on Dataset A\n",
            "Evaluating Logistic Regression on Dataset B\n",
            "Evaluating Logistic Regression on Dataset C\n",
            "Evaluating Gradient Boosting on Dataset A\n",
            "Evaluating Gradient Boosting on Dataset B\n",
            "Evaluating Gradient Boosting on Dataset C\n"
          ]
        }
      ],
      "source": [
        "algorithms = ['KNN', 'Naive Bayes', 'Logistic Regression', 'Gradient Boosting']\n",
        "datasets = ['Dataset A', 'Dataset B', 'Dataset C']\n",
        "\n",
        "for algorithm in algorithms:\n",
        "    for dataset in datasets:\n",
        "        print(f\"Evaluating {algorithm} on {dataset}\")"
      ]
    },
    {
      "cell_type": "markdown",
      "metadata": {},
      "source": [
        "## Loop Control Statements\n",
        "\n",
        "1. Break\n",
        "2. Continue\n",
        "3. Pass"
      ]
    },
    {
      "cell_type": "code",
      "execution_count": 4,
      "metadata": {},
      "outputs": [
        {
          "name": "stdout",
          "output_type": "stream",
          "text": [
            "Processing number 1\n",
            "Processing number 2\n",
            "Skipping number 3\n",
            "Processing number 4\n",
            "Breaking the loop at number 5\n"
          ]
        }
      ],
      "source": [
        "numbers = [1, 2, 3, 4, 5]\n",
        "for number in numbers:\n",
        "    if number == 3:\n",
        "        print(\"Skipping number 3\")\n",
        "        continue\n",
        "    if number == 5:\n",
        "        print(\"Breaking the loop at number 5\")\n",
        "        break\n",
        "    print(f\"Processing number {number}\")"
      ]
    },
    {
      "cell_type": "markdown",
      "metadata": {},
      "source": [
        "## Applications of loops in AI\n",
        "\n",
        "- Data Processing\n",
        "- Model Training\n",
        "- Hyperparameter Tuning"
      ]
    },
    {
      "cell_type": "code",
      "execution_count": 5,
      "metadata": {},
      "outputs": [
        {
          "name": "stdout",
          "output_type": "stream",
          "text": [
            "Training model : Epoch 1/10\n",
            "Training model : Epoch 2/10\n",
            "Training model : Epoch 3/10\n",
            "Training model : Epoch 4/10\n",
            "Training model : Epoch 5/10\n",
            "Training model : Epoch 6/10\n",
            "Training model : Epoch 7/10\n",
            "Training model : Epoch 8/10\n",
            "Training model : Epoch 9/10\n",
            "Training model : Epoch 10/10\n"
          ]
        }
      ],
      "source": [
        "epochs = 10\n",
        "for epoch in range(epochs):\n",
        "    print(f'Training model : Epoch {epoch+1}/{epochs}')\n",
        "    # Simulate training process"
      ]
    }
  ],
  "metadata": {
    "colab": {
      "provenance": []
    },
    "kernelspec": {
      "display_name": "Python 3",
      "name": "python3"
    },
    "language_info": {
      "codemirror_mode": {
        "name": "ipython",
        "version": 3
      },
      "file_extension": ".py",
      "mimetype": "text/x-python",
      "name": "python",
      "nbconvert_exporter": "python",
      "pygments_lexer": "ipython3",
      "version": "3.13.1"
    }
  },
  "nbformat": 4,
  "nbformat_minor": 0
}
