{
  "nbformat": 4,
  "nbformat_minor": 0,
  "metadata": {
    "colab": {
      "provenance": []
    },
    "kernelspec": {
      "name": "python3",
      "display_name": "Python 3"
    },
    "language_info": {
      "name": "python"
    }
  },
  "cells": [
    {
      "cell_type": "markdown",
      "source": [
        "# Python Conditional Statement"
      ],
      "metadata": {
        "id": "EuZHSgbsMJAC"
      }
    },
    {
      "cell_type": "code",
      "execution_count": null,
      "metadata": {
        "id": "Sn73JrgsLi6t"
      },
      "outputs": [],
      "source": [
        "if condition1:\n",
        "    statement1\n",
        "    # Block of code executed if condition1 is true\n",
        "elif condition2:\n",
        "    statement2\n",
        "    # Block of code executed if condition2 is true\n",
        "else:\n",
        "    statement3\n",
        "    # Block of code executed if none of the above conditions are true"
      ]
    }
  ]
}