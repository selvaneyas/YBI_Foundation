{
  "cells": [
    {
      "cell_type": "markdown",
      "metadata": {
        "id": "EuZHSgbsMJAC"
      },
      "source": [
        "# Python Conditional Statement"
      ]
    },
    {
      "cell_type": "markdown",
      "metadata": {},
      "source": [
        "## Syntax and Structure"
      ]
    },
    {
      "cell_type": "markdown",
      "metadata": {},
      "source": [
        "```python\n",
        "if condition1:\n",
        "    # statement1\n",
        "    # Block of code executed if condition1 is true\n",
        "elif condition2:\n",
        "    # statement2\n",
        "    # Block of code executed if condition2 is true\n",
        "else:\n",
        "    # statement3\n",
        "    # Block of code executed if none of the above conditions are true\n",
        "```"
      ]
    },
    {
      "cell_type": "code",
      "execution_count": 1,
      "metadata": {
        "id": "Sn73JrgsLi6t"
      },
      "outputs": [
        {
          "name": "stdout",
          "output_type": "stream",
          "text": [
            "Well done Aarav, you have been awarded a partial scholarship!\n"
          ]
        }
      ],
      "source": [
        "# Example : Determine the eligibility for a scholarship based on marks\n",
        "name  = \"Aarav\"\n",
        "marks = 85\n",
        "\n",
        "if marks >= 90:\n",
        "    result = f\"Congratulations {name}, you have been awarded a full scholarship!\"\n",
        "elif 75<= marks <90:\n",
        "    result = f\"Well done {name}, you have been awarded a partial scholarship!\"\n",
        "else:\n",
        "    result = f\"Sorry {name}, you need to improve your marks to qualify for a scholarship.\"\n",
        "\n",
        "print(result)"
      ]
    },
    {
      "cell_type": "markdown",
      "metadata": {},
      "source": [
        "## Applicatioms\n",
        "\n",
        "1. Data Preprocessing\n",
        "2. Model Evaluation\n",
        "3. Decision Trees\n",
        "4. Chatbots"
      ]
    }
  ],
  "metadata": {
    "colab": {
      "provenance": []
    },
    "kernelspec": {
      "display_name": "Python 3",
      "name": "python3"
    },
    "language_info": {
      "codemirror_mode": {
        "name": "ipython",
        "version": 3
      },
      "file_extension": ".py",
      "mimetype": "text/x-python",
      "name": "python",
      "nbconvert_exporter": "python",
      "pygments_lexer": "ipython3",
      "version": "3.13.1"
    }
  },
  "nbformat": 4,
  "nbformat_minor": 0
}
