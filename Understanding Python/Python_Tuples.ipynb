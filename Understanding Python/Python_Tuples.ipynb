{
  "cells": [
    {
      "cell_type": "markdown",
      "metadata": {
        "id": "hpgkZbKiMudY"
      },
      "source": [
        "# Python Tuples"
      ]
    },
    {
      "cell_type": "markdown",
      "metadata": {},
      "source": [
        "A tuple is an immutable, ordered collection of list often used to group related data"
      ]
    },
    {
      "cell_type": "markdown",
      "metadata": {},
      "source": [
        "## Properties of Tuples\n",
        "- Ordered\n",
        "- Immutable\n",
        "- Allows Duplocates\n",
        "- Heterogeneous"
      ]
    },
    {
      "cell_type": "markdown",
      "metadata": {},
      "source": [
        "## Creating Tuples"
      ]
    },
    {
      "cell_type": "code",
      "execution_count": 1,
      "metadata": {
        "id": "bSBNjdt8Mg_E"
      },
      "outputs": [],
      "source": [
        "# Empty tuple\n",
        "empty_tuple = ()\n",
        "\n",
        "# A tple with one element\n",
        "single_element_tuple = ('Ravi',)\n",
        "\n",
        "# A tuple with multiple element\n",
        "multi_element_tuple = ('Sita', 25,'Engineer',5.8)"
      ]
    },
    {
      "cell_type": "markdown",
      "metadata": {},
      "source": [
        "## Attributes and Methods\n",
        "\n",
        "- len(tuple)\n",
        "- tuple.count(value)\n",
        "- tuple.index(value)"
      ]
    },
    {
      "cell_type": "markdown",
      "metadata": {},
      "source": [
        "## Example : Using Tuples"
      ]
    },
    {
      "cell_type": "code",
      "execution_count": 2,
      "metadata": {},
      "outputs": [],
      "source": [
        "# Creating a tuple representing a student in an indian university\n",
        "Student = ('Amit',21,'Computer Science','Mumbai')"
      ]
    },
    {
      "cell_type": "code",
      "execution_count": 3,
      "metadata": {},
      "outputs": [
        {
          "name": "stdout",
          "output_type": "stream",
          "text": [
            "('Rajesh', 'Priya', 'Anjali', 'Rohan') Rajesh Priya 4 2\n"
          ]
        }
      ],
      "source": [
        "# Tuple representing a family\n",
        "family = ('Rajesh','Priya','Anjali','Rohan')\n",
        "\n",
        "# Accessing elements\n",
        "father = family[0]\n",
        "mother = family[1]\n",
        "\n",
        "# Length of the tuple\n",
        "family_size = len(family)\n",
        "\n",
        "\n",
        "# Finding index\n",
        "index_of_anjali = family.index('Anjali')\n",
        "\n",
        "print(family,father,mother,family_size,index_of_anjali)"
      ]
    },
    {
      "cell_type": "markdown",
      "metadata": {},
      "source": [
        "## Applications of Tuples\n",
        "- Data Integrity\n",
        "- Returning Multiple Values\n",
        "- Dictionary Keys"
      ]
    }
  ],
  "metadata": {
    "colab": {
      "provenance": []
    },
    "kernelspec": {
      "display_name": "Python 3",
      "name": "python3"
    },
    "language_info": {
      "codemirror_mode": {
        "name": "ipython",
        "version": 3
      },
      "file_extension": ".py",
      "mimetype": "text/x-python",
      "name": "python",
      "nbconvert_exporter": "python",
      "pygments_lexer": "ipython3",
      "version": "3.13.1"
    }
  },
  "nbformat": 4,
  "nbformat_minor": 0
}
