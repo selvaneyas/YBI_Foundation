{
  "cells": [
    {
      "cell_type": "markdown",
      "metadata": {
        "id": "V1yR2N4nMkei"
      },
      "source": [
        "# Python Lists"
      ]
    },
    {
      "cell_type": "code",
      "execution_count": 1,
      "metadata": {
        "id": "Q9o8hkAZMhvI"
      },
      "outputs": [],
      "source": [
        "my_list = [1,2,3,4,5,6]"
      ]
    },
    {
      "cell_type": "markdown",
      "metadata": {},
      "source": [
        "## Properties of Python Lists\n",
        "\n",
        "- Ordered\n",
        "- Mutable\n",
        "- Dynamic\n",
        "- Heterogeneous"
      ]
    },
    {
      "cell_type": "markdown",
      "metadata": {},
      "source": [
        "## Creating Python Lists"
      ]
    },
    {
      "cell_type": "code",
      "execution_count": 2,
      "metadata": {},
      "outputs": [],
      "source": [
        "names = ['Rajesh','Priya','Amit','Sneha','Ravi']"
      ]
    },
    {
      "cell_type": "markdown",
      "metadata": {},
      "source": [
        "## Attributes and Methods of Lists\n",
        "\n",
        "- `append()`\n",
        "- `extend()`\n",
        "- `insert()`\n",
        "- `remove()`\n",
        "- `pop()`\n",
        "- `sort()`\n",
        "- `reverse()`\n",
        "- `index()`\n",
        "- `count()`"
      ]
    },
    {
      "cell_type": "markdown",
      "metadata": {},
      "source": [
        "## Example 1 : Adding and Removing Elements"
      ]
    },
    {
      "cell_type": "code",
      "execution_count": 3,
      "metadata": {},
      "outputs": [
        {
          "name": "stdout",
          "output_type": "stream",
          "text": [
            "Original list: ['Anjali', 'Vikram', 'Suresh', 'Nisha', 'Kiran', 'Neha']\n",
            "After Append  ['Anjali', 'Vikram', 'Suresh', 'Nisha', 'Kiran', 'Neha', 'Rohit']\n",
            "After Remove  ['Anjali', 'Suresh', 'Nisha', 'Kiran', 'Neha', 'Rohit']\n"
          ]
        }
      ],
      "source": [
        "students = ['Anjali','Vikram','Suresh','Nisha','Kiran','Neha']\n",
        "print('Original list:', students)\n",
        "\n",
        "# Adding a new Student\n",
        "students.append('Rohit')\n",
        "print('After Append ',students)\n",
        "\n",
        "# Removing a Student\n",
        "students.remove('Vikram')\n",
        "print('After Remove ',students)"
      ]
    },
    {
      "cell_type": "markdown",
      "metadata": {},
      "source": [
        "## Example 2 : Sorting and Reversing"
      ]
    },
    {
      "cell_type": "code",
      "execution_count": 4,
      "metadata": {},
      "outputs": [
        {
          "name": "stdout",
          "output_type": "stream",
          "text": [
            "Original list: ['Delhi', 'Mumbai', 'Bangalore', 'Chennai', 'Kolkata']\n",
            "Sorted List :  ['Bangalore', 'Chennai', 'Delhi', 'Kolkata', 'Mumbai']\n",
            "Reversed List :  ['Mumbai', 'Kolkata', 'Delhi', 'Chennai', 'Bangalore']\n"
          ]
        }
      ],
      "source": [
        "cities = ['Delhi','Mumbai','Bangalore','Chennai','Kolkata']\n",
        "print('Original list:', cities)\n",
        "\n",
        "# Sorting the list\n",
        "cities.sort()\n",
        "print('Sorted List : ',cities)\n",
        "\n",
        "# Reversing the list\n",
        "cities.reverse()\n",
        "print('Reversed List : ',cities)"
      ]
    },
    {
      "cell_type": "markdown",
      "metadata": {},
      "source": [
        "## Applications of Lists\n",
        "\n",
        "- Data Storage\n",
        "- Data Preprocessing\n",
        "- Result Storage\n",
        "- Dynamic Data Handling"
      ]
    },
    {
      "cell_type": "markdown",
      "metadata": {},
      "source": []
    }
  ],
  "metadata": {
    "colab": {
      "provenance": []
    },
    "kernelspec": {
      "display_name": "Python 3",
      "name": "python3"
    },
    "language_info": {
      "codemirror_mode": {
        "name": "ipython",
        "version": 3
      },
      "file_extension": ".py",
      "mimetype": "text/x-python",
      "name": "python",
      "nbconvert_exporter": "python",
      "pygments_lexer": "ipython3",
      "version": "3.13.1"
    }
  },
  "nbformat": 4,
  "nbformat_minor": 0
}
