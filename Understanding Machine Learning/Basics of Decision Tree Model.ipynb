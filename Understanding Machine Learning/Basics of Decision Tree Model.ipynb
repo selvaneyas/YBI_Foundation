{
 "cells": [
  {
   "cell_type": "markdown",
   "metadata": {},
   "source": [
    "# 🌳 Basics of Decision Tree Model\n",
    "\n",
    "Welcome to this detailed guide on Decision Tree models! Let's explore the components, working, and applications of this intuitive machine learning algorithm. 🚀"
   ]
  },
  {
   "cell_type": "markdown",
   "metadata": {},
   "source": [
    "## 1. Definition\n",
    "\n",
    "A Decision Tree is a supervised learning algorithm used for classification and regression tasks. It splits the data into subsets based on feature values, forming a tree-like structure. 🌲"
   ]
  },
  {
   "cell_type": "markdown",
   "metadata": {},
   "source": [
    "## 2. Components of a Decision Tree\n",
    "\n",
    "- **Root Node**: The top node representing the entire dataset. 🌳\n",
    "- **Splitting**: The process of dividing a node into two or more sub-nodes. ✂️\n",
    "- **Decision Node**: A node that splits into further sub-nodes. 🔀\n",
    "- **Leaf/Terminal Node**: A node that does not split further and represents a class label or output. 🍃\n",
    "- **Pruning**: The process of removing sub-nodes to prevent overfitting. ✂️\n",
    "- **Branch/Sub-Tree**: A subsection of the entire tree. 🌿\n",
    "- **Parent and Child Node**: Nodes connected by a branch, where the parent splits into child nodes. 👪"
   ]
  },
  {
   "cell_type": "markdown",
   "metadata": {},
   "source": [
    "## 3. How Decision Trees Work\n",
    "\n",
    "- Start at the root node.\n",
    "- Split the data based on the best attribute using a selection measure.\n",
    "- Repeat splitting recursively for each child node.\n",
    "- Stop when nodes are pure or meet stopping criteria."
   ]
  },
  {
   "cell_type": "markdown",
   "metadata": {},
   "source": [
    "## 4. Steps to Build a Decision Tree\n",
    "\n",
    "1. Select the best attribute using attribute selection measures. 🔍\n",
    "2. Split the dataset into subsets based on the attribute. ✂️\n",
    "3. Repeat recursively for each subset. 🔄\n",
    "4. Stop when all data in a node belongs to the same class or no further splitting is possible. 🛑"
   ]
  },
  {
   "cell_type": "markdown",
   "metadata": {},
   "source": [
    "## 5. Attribute Selection Measures\n",
    "\n",
    "- **Information Gain**: Measures the reduction in entropy after a dataset is split on an attribute. 📉\n",
    "- **Gini Index**: Measures the impurity of a dataset; lower values indicate better splits. ⚖️\n",
    "- **Chi-Square**: Statistical test to measure the independence of attributes. 📊"
   ]
  },
  {
   "cell_type": "markdown",
   "metadata": {},
   "source": [
    "## 6. Example: Building a Decision Tree\n",
    "\n",
    "Consider a dataset of weather conditions and whether to play tennis. The decision tree splits based on attributes like outlook, humidity, and wind to predict the outcome. 🌞🌧️"
   ]
  },
  {
   "cell_type": "markdown",
   "metadata": {},
   "source": [
    "## 7. Python Code Example\n",
    "```python\n",
    "from sklearn.datasets import load_iris\n",
    "from sklearn.tree import DecisionTreeClassifier\n",
    "from sklearn.model_selection import train_test_split\n",
    "from sklearn.metrics import classification_report, confusion_matrix\n",
    "\n",
    "# Load dataset\n",
    "iris = load_iris()\n",
    "X = iris.data\n",
    "y = iris.target\n",
    "\n",
    "# Split data\n",
    "X_train, X_test, y_train, y_test = train_test_split(X, y, test_size=0.3, random_state=42)\n",
    "\n",
    "# Create Decision Tree classifier\n",
    "clf = DecisionTreeClassifier()\n",
    "clf.fit(X_train, y_train)\n",
    "\n",
    "# Predict\n",
    "y_pred = clf.predict(X_test)\n",
    "\n",
    "# Evaluate\n",
    "print(confusion_matrix(y_test, y_pred))\n",
    "print(classification_report(y_test, y_pred))\n",
    "```\n"
   ]
  },
  {
   "cell_type": "code",
   "execution_count": 1,
   "id": "b431b332",
   "metadata": {},
   "outputs": [],
   "source": [
    "data = [{\"Study Hours\":5 , \"Attendance\": 80, \"Result\":\"Pass\"},\n",
    "{\"Study Hours\":3 , \"Attendance\": 60, \"Result\":\"Fail\"},\n",
    "{\"Study Hours\":4 , \"Attendance\": 70, \"Result\":\"Pass\"},\n",
    "{\"Study Hours\":2 , \"Attendance\": 50, \"Result\":\"Fail\"}]"
   ]
  },
  {
   "cell_type": "code",
   "execution_count": 2,
   "id": "e363772b",
   "metadata": {},
   "outputs": [],
   "source": [
    "from sklearn.tree import DecisionTreeClassifier\n",
    "from sklearn.model_selection import train_test_split\n",
    "from sklearn import metrics\n",
    "import pandas as pd"
   ]
  },
  {
   "cell_type": "code",
   "execution_count": null,
   "id": "8a85ccc0",
   "metadata": {},
   "outputs": [
    {
     "data": {
      "application/vnd.microsoft.datawrangler.viewer.v0+json": {
       "columns": [
        {
         "name": "index",
         "rawType": "int64",
         "type": "integer"
        },
        {
         "name": "Study Hours",
         "rawType": "int64",
         "type": "integer"
        },
        {
         "name": "Attendance",
         "rawType": "int64",
         "type": "integer"
        },
        {
         "name": "Result",
         "rawType": "object",
         "type": "string"
        }
       ],
       "ref": "7751b059-4862-44b2-856f-ff95cdd22702",
       "rows": [
        [
         "0",
         "5",
         "80",
         "Pass"
        ],
        [
         "1",
         "3",
         "60",
         "Fail"
        ],
        [
         "2",
         "4",
         "70",
         "Pass"
        ],
        [
         "3",
         "2",
         "50",
         "Fail"
        ]
       ],
       "shape": {
        "columns": 3,
        "rows": 4
       }
      },
      "text/html": [
       "<div>\n",
       "<style scoped>\n",
       "    .dataframe tbody tr th:only-of-type {\n",
       "        vertical-align: middle;\n",
       "    }\n",
       "\n",
       "    .dataframe tbody tr th {\n",
       "        vertical-align: top;\n",
       "    }\n",
       "\n",
       "    .dataframe thead th {\n",
       "        text-align: right;\n",
       "    }\n",
       "</style>\n",
       "<table border=\"1\" class=\"dataframe\">\n",
       "  <thead>\n",
       "    <tr style=\"text-align: right;\">\n",
       "      <th></th>\n",
       "      <th>Study Hours</th>\n",
       "      <th>Attendance</th>\n",
       "      <th>Result</th>\n",
       "    </tr>\n",
       "  </thead>\n",
       "  <tbody>\n",
       "    <tr>\n",
       "      <th>0</th>\n",
       "      <td>5</td>\n",
       "      <td>80</td>\n",
       "      <td>Pass</td>\n",
       "    </tr>\n",
       "    <tr>\n",
       "      <th>1</th>\n",
       "      <td>3</td>\n",
       "      <td>60</td>\n",
       "      <td>Fail</td>\n",
       "    </tr>\n",
       "    <tr>\n",
       "      <th>2</th>\n",
       "      <td>4</td>\n",
       "      <td>70</td>\n",
       "      <td>Pass</td>\n",
       "    </tr>\n",
       "    <tr>\n",
       "      <th>3</th>\n",
       "      <td>2</td>\n",
       "      <td>50</td>\n",
       "      <td>Fail</td>\n",
       "    </tr>\n",
       "  </tbody>\n",
       "</table>\n",
       "</div>"
      ],
      "text/plain": [
       "   Study Hours  Attendance Result\n",
       "0            5          80   Pass\n",
       "1            3          60   Fail\n",
       "2            4          70   Pass\n",
       "3            2          50   Fail"
      ]
     },
     "execution_count": 3,
     "metadata": {},
     "output_type": "execute_result"
    }
   ],
   "source": [
    "# sample data\n",
    "data = {'Study Hours': [5, 3, 4, 2],\n",
    "        'Attendance': [80, 60, 70, 50],\n",
    "        'Result': ['Pass', 'Fail', 'Pass', 'Fail']\n",
    "}\n",
    "df = pd.DataFrame(data)\n",
    "df"
   ]
  },
  {
   "cell_type": "code",
   "execution_count": 4,
   "id": "f1746389",
   "metadata": {},
   "outputs": [],
   "source": [
    "# Features and target variable\n",
    "X = df[['Study Hours', 'Attendance']]\n",
    "y = df['Result']"
   ]
  },
  {
   "cell_type": "code",
   "execution_count": 16,
   "id": "40dbb436",
   "metadata": {},
   "outputs": [],
   "source": [
    "# Split the dataset into training and testing sets\n",
    "X_train, X_test, y_train, y_test = train_test_split(X, y, test_size=0.2, random_state=2529)"
   ]
  },
  {
   "cell_type": "code",
   "execution_count": 17,
   "id": "5b432906",
   "metadata": {},
   "outputs": [],
   "source": [
    "# Create Decision Tree Classifier\n",
    "clf = DecisionTreeClassifier()"
   ]
  },
  {
   "cell_type": "code",
   "execution_count": 18,
   "id": "a72dacf9",
   "metadata": {},
   "outputs": [],
   "source": [
    "# Train Decision Tree Classifier\n",
    "clf = clf.fit(X_train, y_train)"
   ]
  },
  {
   "cell_type": "code",
   "execution_count": 19,
   "id": "0cd71421",
   "metadata": {},
   "outputs": [],
   "source": [
    "# Predict the response for test dataset\n",
    "y_pred = clf.predict(X_test)"
   ]
  },
  {
   "cell_type": "code",
   "execution_count": 20,
   "id": "a0451c24",
   "metadata": {},
   "outputs": [
    {
     "name": "stdout",
     "output_type": "stream",
     "text": [
      "Accuracy: 1.0\n",
      "Confusion Matrix:\n",
      " [[1]]\n",
      "Classification Report:\n",
      "               precision    recall  f1-score   support\n",
      "\n",
      "        Fail       1.00      1.00      1.00         1\n",
      "\n",
      "    accuracy                           1.00         1\n",
      "   macro avg       1.00      1.00      1.00         1\n",
      "weighted avg       1.00      1.00      1.00         1\n",
      "\n"
     ]
    },
    {
     "name": "stderr",
     "output_type": "stream",
     "text": [
      "c:\\Users\\Lenovo\\AppData\\Local\\Programs\\Python\\Python310\\lib\\site-packages\\sklearn\\metrics\\_classification.py:534: UserWarning: A single label was found in 'y_true' and 'y_pred'. For the confusion matrix to have the correct shape, use the 'labels' parameter to pass all known labels.\n",
      "  warnings.warn(\n"
     ]
    }
   ],
   "source": [
    "# Model Accuracy\n",
    "print(\"Accuracy:\", metrics.accuracy_score(y_test, y_pred))\n",
    "# Confusion Matrix\n",
    "print(\"Confusion Matrix:\\n\", metrics.confusion_matrix(y_test, y_pred))\n",
    "# Classification Report\n",
    "print(\"Classification Report:\\n\", metrics.classification_report(y_test, y_pred))"
   ]
  },
  {
   "cell_type": "code",
   "execution_count": 21,
   "id": "cfdebaa3",
   "metadata": {},
   "outputs": [
    {
     "name": "stdout",
     "output_type": "stream",
     "text": [
      "Decision Tree Rules:\n",
      " |--- Study Hours <= 3.00\n",
      "|   |--- class: Fail\n",
      "|--- Study Hours >  3.00\n",
      "|   |--- class: Pass\n",
      "\n"
     ]
    }
   ],
   "source": [
    "# Visualizing the Decision Tree\n",
    "from sklearn.tree import export_text\n",
    "# Display the decision tree rules\n",
    "print(\"Decision Tree Rules:\\n\", export_text(clf, feature_names=['Study Hours', 'Attendance']))"
   ]
  },
  {
   "cell_type": "markdown",
   "metadata": {},
   "source": [
    "## 8. Applications of Decision Tree Models\n",
    "\n",
    "- Credit Scoring 💳\n",
    "- Medical Diagnosis 🏥\n",
    "- Customer Segmentation 👥\n",
    "- Risk Management ⚠️"
   ]
  },
  {
   "cell_type": "markdown",
   "metadata": {},
   "source": [
    "## 9. Advantages\n",
    "\n",
    "- Easy to understand and interpret. 🧠\n",
    "- Requires little data preprocessing. 🧹\n",
    "- Can handle both numerical and categorical data. 🔢🔤\n",
    "- Non-parametric and flexible. 🔄"
   ]
  },
  {
   "cell_type": "markdown",
   "metadata": {},
   "source": [
    "## 10. Disadvantages\n",
    "\n",
    "- Prone to overfitting. ⚠️\n",
    "- Can be unstable with small variations in data. 🔄\n",
    "- Biased towards attributes with more levels. ⚖️"
   ]
  },
  {
   "cell_type": "markdown",
   "metadata": {},
   "source": [
    "## 11. Conclusion\n",
    "\n",
    "Decision Trees are powerful and interpretable models widely used in machine learning. Understanding their components and working is essential for effective application. 🌟"
   ]
  }
 ],
 "metadata": {
  "kernelspec": {
   "display_name": "Python 3",
   "language": "python",
   "name": "python3"
  },
  "language_info": {
   "codemirror_mode": {
    "name": "ipython",
    "version": 3
   },
   "file_extension": ".py",
   "mimetype": "text/x-python",
   "name": "python",
   "nbconvert_exporter": "python",
   "pygments_lexer": "ipython3",
   "version": "3.10.0rc2"
  }
 },
 "nbformat": 4,
 "nbformat_minor": 5
}
