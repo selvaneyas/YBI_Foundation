{
 "cells": [
  {
   "cell_type": "markdown",
   "metadata": {},
   "source": [
    "# 📊 Supervised vs Unsupervised Learning (with Examples)\n",
    "\n",
    "Explore the key differences and applications of two fundamental types of machine learning! 🤖✨"
   ]
  },
  {
   "cell_type": "markdown",
   "metadata": {},
   "source": [
    "## 🧠 Supervised Learning\n",
    "\n",
    "Supervised learning involves training a model on labeled data, where the input-output pairs are known. The goal is to learn a mapping from inputs to outputs. 🎯\n",
    "\n",
    "### Applications:\n",
    "- Image classification 🖼️\n",
    "- Spam detection 📧\n",
    "- Predictive analytics 📈\n",
    "- Speech recognition 🎤\n",
    "- Medical diagnosis 🏥\n",
    "\n",
    "### Advantages:\n",
    "- High accuracy ✅\n",
    "- Interpretability 🧐\n",
    "- Clear objective function 🎯\n",
    "\n",
    "### Disadvantages:\n",
    "- Data dependency (requires large labeled datasets) 📊\n",
    "- Risk of overfitting 🔍\n",
    "- Expensive data labeling process 💰"
   ]
  },
  {
   "cell_type": "markdown",
   "metadata": {},
   "source": [
    "## 🔍 Unsupervised Learning\n",
    "\n",
    "Unsupervised learning deals with unlabeled data, aiming to find hidden patterns or intrinsic structures. 🕵️‍♂️\n",
    "\n",
    "### Applications:\n",
    "- Clustering (grouping similar data points) 🧩\n",
    "- Anomaly detection 🚨\n",
    "- Dimensionality reduction 📉\n",
    "- Market basket analysis 🛒\n",
    "\n",
    "### Advantages:\n",
    "- Data efficiency (no need for labeled data) 💾\n",
    "- Flexibility in discovering unknown patterns 🔄\n",
    "- Useful for exploratory data analysis 🔎\n",
    "\n",
    "### Disadvantages:\n",
    "- Uncertainty in results ❓\n",
    "- Difficult to interpret results 🧩\n",
    "- No clear objective function 🎯"
   ]
  }
 ],
 "metadata": {
  "kernelspec": {
   "display_name": "Python 3",
   "language": "python",
   "name": "python3"
  },
  "language_info": {
   "name": "python",
   "version": "3.8"
  }
 },
 "nbformat": 4,
 "nbformat_minor": 5
}
